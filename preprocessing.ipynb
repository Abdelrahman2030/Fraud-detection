{
 "cells": [
  {
   "cell_type": "code",
   "execution_count": 1,
   "id": "d8aa10ef-8fe3-4df1-aab1-75d8bec327a1",
   "metadata": {},
   "outputs": [],
   "source": [
    "import pandas as pd\n",
    "import numpy as np\n",
    "import matplotlib.pyplot as plt"
   ]
  },
  {
   "cell_type": "code",
   "execution_count": 2,
   "id": "ffe1a666-e183-44cd-9428-ba91dfbd95ed",
   "metadata": {},
   "outputs": [],
   "source": [
    "df = pd.read_csv(\"sampled_data.csv\")"
   ]
  },
  {
   "cell_type": "code",
   "execution_count": 3,
   "id": "eeab25f2-7923-4000-9371-86891148fe52",
   "metadata": {},
   "outputs": [
    {
     "data": {
      "text/html": [
       "<div>\n",
       "<style scoped>\n",
       "    .dataframe tbody tr th:only-of-type {\n",
       "        vertical-align: middle;\n",
       "    }\n",
       "\n",
       "    .dataframe tbody tr th {\n",
       "        vertical-align: top;\n",
       "    }\n",
       "\n",
       "    .dataframe thead th {\n",
       "        text-align: right;\n",
       "    }\n",
       "</style>\n",
       "<table border=\"1\" class=\"dataframe\">\n",
       "  <thead>\n",
       "    <tr style=\"text-align: right;\">\n",
       "      <th></th>\n",
       "      <th>Transaction ID</th>\n",
       "      <th>Customer ID</th>\n",
       "      <th>Customer Location</th>\n",
       "      <th>IP Address</th>\n",
       "      <th>Shipping Address</th>\n",
       "      <th>Billing Address</th>\n",
       "      <th>Transaction Amount</th>\n",
       "      <th>Transaction Date</th>\n",
       "      <th>Payment Method</th>\n",
       "      <th>Product Category</th>\n",
       "      <th>Quantity</th>\n",
       "      <th>Customer Age</th>\n",
       "      <th>Device Used</th>\n",
       "      <th>Is Fraudulent</th>\n",
       "      <th>Account Age Days</th>\n",
       "      <th>Transaction Hour</th>\n",
       "    </tr>\n",
       "  </thead>\n",
       "  <tbody>\n",
       "    <tr>\n",
       "      <th>0</th>\n",
       "      <td>75694840-8345-4983-8418-ba5c8a417ba1</td>\n",
       "      <td>9c8a27e3-5c82-418c-9a98-a783e58a375d</td>\n",
       "      <td>Jeromestad</td>\n",
       "      <td>115.160.37.120</td>\n",
       "      <td>Unit 3230 Box 1139\\r\\nDPO AA 97507</td>\n",
       "      <td>Unit 3230 Box 1139\\r\\nDPO AA 97507</td>\n",
       "      <td>526.68</td>\n",
       "      <td>2024-02-02 19:24:23</td>\n",
       "      <td>debit card</td>\n",
       "      <td>toys &amp; games</td>\n",
       "      <td>1</td>\n",
       "      <td>14</td>\n",
       "      <td>desktop</td>\n",
       "      <td>0</td>\n",
       "      <td>137</td>\n",
       "      <td>19</td>\n",
       "    </tr>\n",
       "    <tr>\n",
       "      <th>1</th>\n",
       "      <td>f0f6100d-83b4-4724-9ab9-42d25a6a9642</td>\n",
       "      <td>0aab89da-4454-47de-aee7-a9347a3fda38</td>\n",
       "      <td>Arroyoborough</td>\n",
       "      <td>21.110.203.111</td>\n",
       "      <td>485 Wendy Ridge Suite 573\\r\\nDavidchester, NH ...</td>\n",
       "      <td>485 Wendy Ridge Suite 573\\r\\nDavidchester, NH ...</td>\n",
       "      <td>292.86</td>\n",
       "      <td>2024-01-04 03:40:16</td>\n",
       "      <td>debit card</td>\n",
       "      <td>home &amp; garden</td>\n",
       "      <td>3</td>\n",
       "      <td>22</td>\n",
       "      <td>mobile</td>\n",
       "      <td>0</td>\n",
       "      <td>148</td>\n",
       "      <td>3</td>\n",
       "    </tr>\n",
       "    <tr>\n",
       "      <th>2</th>\n",
       "      <td>ca1dc507-6550-40cc-bb70-bfe606772da2</td>\n",
       "      <td>02bbabf5-29cc-400b-8d00-41494b161364</td>\n",
       "      <td>Danielton</td>\n",
       "      <td>42.211.181.254</td>\n",
       "      <td>5066 Joseph Plains Apt. 182\\r\\nNguyenfort, MS ...</td>\n",
       "      <td>5066 Joseph Plains Apt. 182\\r\\nNguyenfort, MS ...</td>\n",
       "      <td>31.46</td>\n",
       "      <td>2024-01-20 06:15:28</td>\n",
       "      <td>debit card</td>\n",
       "      <td>toys &amp; games</td>\n",
       "      <td>4</td>\n",
       "      <td>32</td>\n",
       "      <td>desktop</td>\n",
       "      <td>0</td>\n",
       "      <td>146</td>\n",
       "      <td>6</td>\n",
       "    </tr>\n",
       "    <tr>\n",
       "      <th>3</th>\n",
       "      <td>1e7b965c-3652-4535-ae4c-fc1dd7319fa6</td>\n",
       "      <td>b3cab3f2-d134-42fc-a882-9eeda6f67fb8</td>\n",
       "      <td>West Shannon</td>\n",
       "      <td>195.117.41.110</td>\n",
       "      <td>7121 Hardy Parkways Suite 758\\r\\nNorth Shelby,...</td>\n",
       "      <td>7121 Hardy Parkways Suite 758\\r\\nNorth Shelby,...</td>\n",
       "      <td>41.78</td>\n",
       "      <td>2024-03-29 15:53:59</td>\n",
       "      <td>bank transfer</td>\n",
       "      <td>clothing</td>\n",
       "      <td>5</td>\n",
       "      <td>27</td>\n",
       "      <td>mobile</td>\n",
       "      <td>0</td>\n",
       "      <td>216</td>\n",
       "      <td>15</td>\n",
       "    </tr>\n",
       "    <tr>\n",
       "      <th>4</th>\n",
       "      <td>6886f533-638f-412c-93f4-36b80c0123ce</td>\n",
       "      <td>b06e8928-9648-452e-bf4b-b4e91b4deeb4</td>\n",
       "      <td>West Heidishire</td>\n",
       "      <td>57.86.110.188</td>\n",
       "      <td>1675 Robbins Causeway Apt. 175\\r\\nNew Ryan, PR...</td>\n",
       "      <td>1675 Robbins Causeway Apt. 175\\r\\nNew Ryan, PR...</td>\n",
       "      <td>119.07</td>\n",
       "      <td>2024-03-19 14:56:24</td>\n",
       "      <td>bank transfer</td>\n",
       "      <td>home &amp; garden</td>\n",
       "      <td>1</td>\n",
       "      <td>15</td>\n",
       "      <td>desktop</td>\n",
       "      <td>0</td>\n",
       "      <td>283</td>\n",
       "      <td>14</td>\n",
       "    </tr>\n",
       "  </tbody>\n",
       "</table>\n",
       "</div>"
      ],
      "text/plain": [
       "                         Transaction ID                           Customer ID  \\\n",
       "0  75694840-8345-4983-8418-ba5c8a417ba1  9c8a27e3-5c82-418c-9a98-a783e58a375d   \n",
       "1  f0f6100d-83b4-4724-9ab9-42d25a6a9642  0aab89da-4454-47de-aee7-a9347a3fda38   \n",
       "2  ca1dc507-6550-40cc-bb70-bfe606772da2  02bbabf5-29cc-400b-8d00-41494b161364   \n",
       "3  1e7b965c-3652-4535-ae4c-fc1dd7319fa6  b3cab3f2-d134-42fc-a882-9eeda6f67fb8   \n",
       "4  6886f533-638f-412c-93f4-36b80c0123ce  b06e8928-9648-452e-bf4b-b4e91b4deeb4   \n",
       "\n",
       "  Customer Location      IP Address  \\\n",
       "0        Jeromestad  115.160.37.120   \n",
       "1     Arroyoborough  21.110.203.111   \n",
       "2         Danielton  42.211.181.254   \n",
       "3      West Shannon  195.117.41.110   \n",
       "4   West Heidishire   57.86.110.188   \n",
       "\n",
       "                                    Shipping Address  \\\n",
       "0                 Unit 3230 Box 1139\\r\\nDPO AA 97507   \n",
       "1  485 Wendy Ridge Suite 573\\r\\nDavidchester, NH ...   \n",
       "2  5066 Joseph Plains Apt. 182\\r\\nNguyenfort, MS ...   \n",
       "3  7121 Hardy Parkways Suite 758\\r\\nNorth Shelby,...   \n",
       "4  1675 Robbins Causeway Apt. 175\\r\\nNew Ryan, PR...   \n",
       "\n",
       "                                     Billing Address  Transaction Amount  \\\n",
       "0                 Unit 3230 Box 1139\\r\\nDPO AA 97507              526.68   \n",
       "1  485 Wendy Ridge Suite 573\\r\\nDavidchester, NH ...              292.86   \n",
       "2  5066 Joseph Plains Apt. 182\\r\\nNguyenfort, MS ...               31.46   \n",
       "3  7121 Hardy Parkways Suite 758\\r\\nNorth Shelby,...               41.78   \n",
       "4  1675 Robbins Causeway Apt. 175\\r\\nNew Ryan, PR...              119.07   \n",
       "\n",
       "      Transaction Date Payment Method Product Category  Quantity  \\\n",
       "0  2024-02-02 19:24:23     debit card     toys & games         1   \n",
       "1  2024-01-04 03:40:16     debit card    home & garden         3   \n",
       "2  2024-01-20 06:15:28     debit card     toys & games         4   \n",
       "3  2024-03-29 15:53:59  bank transfer         clothing         5   \n",
       "4  2024-03-19 14:56:24  bank transfer    home & garden         1   \n",
       "\n",
       "   Customer Age Device Used  Is Fraudulent  Account Age Days  Transaction Hour  \n",
       "0            14     desktop              0               137                19  \n",
       "1            22      mobile              0               148                 3  \n",
       "2            32     desktop              0               146                 6  \n",
       "3            27      mobile              0               216                15  \n",
       "4            15     desktop              0               283                14  "
      ]
     },
     "execution_count": 3,
     "metadata": {},
     "output_type": "execute_result"
    }
   ],
   "source": [
    "df.head()"
   ]
  },
  {
   "cell_type": "code",
   "execution_count": 4,
   "id": "29c560a2-d73b-49f2-9bed-2efe16865076",
   "metadata": {},
   "outputs": [
    {
     "name": "stdout",
     "output_type": "stream",
     "text": [
      "<class 'pandas.core.frame.DataFrame'>\n",
      "RangeIndex: 73648 entries, 0 to 73647\n",
      "Data columns (total 16 columns):\n",
      " #   Column              Non-Null Count  Dtype  \n",
      "---  ------              --------------  -----  \n",
      " 0   Transaction ID      73648 non-null  object \n",
      " 1   Customer ID         73648 non-null  object \n",
      " 2   Customer Location   73648 non-null  object \n",
      " 3   IP Address          73648 non-null  object \n",
      " 4   Shipping Address    73648 non-null  object \n",
      " 5   Billing Address     73648 non-null  object \n",
      " 6   Transaction Amount  73648 non-null  float64\n",
      " 7   Transaction Date    73648 non-null  object \n",
      " 8   Payment Method      73648 non-null  object \n",
      " 9   Product Category    73648 non-null  object \n",
      " 10  Quantity            73648 non-null  int64  \n",
      " 11  Customer Age        73648 non-null  int64  \n",
      " 12  Device Used         73648 non-null  object \n",
      " 13  Is Fraudulent       73648 non-null  int64  \n",
      " 14  Account Age Days    73648 non-null  int64  \n",
      " 15  Transaction Hour    73648 non-null  int64  \n",
      "dtypes: float64(1), int64(5), object(10)\n",
      "memory usage: 9.0+ MB\n"
     ]
    }
   ],
   "source": [
    "df.info()"
   ]
  },
  {
   "cell_type": "code",
   "execution_count": 5,
   "id": "051b85b2-69fb-461f-b9ad-26865e83f495",
   "metadata": {},
   "outputs": [],
   "source": [
    "#Change the type of the date\n",
    "df[\"Transaction Date\"] = pd.to_datetime(df[\"Transaction Date\"])"
   ]
  },
  {
   "cell_type": "code",
   "execution_count": 6,
   "id": "a6f68bd2-6271-4e19-855d-bf2329fd6d2e",
   "metadata": {},
   "outputs": [],
   "source": [
    "#Change column names to make them all small and has underscore\n",
    "# List comprehension to generate new column names\n",
    "new_column_names = [name.lower().replace(\" \", \"_\") for name in df.columns]\n",
    "\n",
    "# Create a dictionary mapping old column names to new ones\n",
    "columns_dict = dict(zip(df.columns, new_column_names))\n",
    "\n",
    "# Rename the columns in the DataFrame\n",
    "df.rename(columns=columns_dict, inplace=True)"
   ]
  },
  {
   "cell_type": "code",
   "execution_count": 7,
   "id": "e0ab8ad9-dfe7-490f-88db-d30c000ea39a",
   "metadata": {},
   "outputs": [
    {
     "name": "stdout",
     "output_type": "stream",
     "text": [
      "<class 'pandas.core.frame.DataFrame'>\n",
      "RangeIndex: 73648 entries, 0 to 73647\n",
      "Data columns (total 16 columns):\n",
      " #   Column              Non-Null Count  Dtype         \n",
      "---  ------              --------------  -----         \n",
      " 0   transaction_id      73648 non-null  object        \n",
      " 1   customer_id         73648 non-null  object        \n",
      " 2   customer_location   73648 non-null  object        \n",
      " 3   ip_address          73648 non-null  object        \n",
      " 4   shipping_address    73648 non-null  object        \n",
      " 5   billing_address     73648 non-null  object        \n",
      " 6   transaction_amount  73648 non-null  float64       \n",
      " 7   transaction_date    73648 non-null  datetime64[ns]\n",
      " 8   payment_method      73648 non-null  object        \n",
      " 9   product_category    73648 non-null  object        \n",
      " 10  quantity            73648 non-null  int64         \n",
      " 11  customer_age        73648 non-null  int64         \n",
      " 12  device_used         73648 non-null  object        \n",
      " 13  is_fraudulent       73648 non-null  int64         \n",
      " 14  account_age_days    73648 non-null  int64         \n",
      " 15  transaction_hour    73648 non-null  int64         \n",
      "dtypes: datetime64[ns](1), float64(1), int64(5), object(9)\n",
      "memory usage: 9.0+ MB\n"
     ]
    }
   ],
   "source": [
    "df.info()"
   ]
  },
  {
   "cell_type": "code",
   "execution_count": 8,
   "id": "03993411-3130-44b8-b84d-8b901df239df",
   "metadata": {},
   "outputs": [
    {
     "data": {
      "text/plain": [
       "0"
      ]
     },
     "execution_count": 8,
     "metadata": {},
     "output_type": "execute_result"
    }
   ],
   "source": [
    "df.duplicated().sum()"
   ]
  },
  {
   "cell_type": "code",
   "execution_count": 9,
   "id": "f9c355d3-1378-4ae9-98f1-bcb466542999",
   "metadata": {},
   "outputs": [
    {
     "data": {
      "text/plain": [
       "transaction_id        73648\n",
       "customer_id           73648\n",
       "customer_location     31856\n",
       "ip_address            73647\n",
       "shipping_address      73648\n",
       "billing_address       73648\n",
       "transaction_amount    38268\n",
       "transaction_date      73341\n",
       "payment_method            4\n",
       "product_category          5\n",
       "quantity                  5\n",
       "customer_age             82\n",
       "device_used               3\n",
       "is_fraudulent             2\n",
       "account_age_days        365\n",
       "transaction_hour         24\n",
       "dtype: int64"
      ]
     },
     "execution_count": 9,
     "metadata": {},
     "output_type": "execute_result"
    }
   ],
   "source": [
    "df.nunique()"
   ]
  },
  {
   "cell_type": "markdown",
   "id": "26865724-4a3c-4d21-8a3d-f4e4459713c4",
   "metadata": {},
   "source": [
    "we can find that **There are three columns that has all vlaues as unique, so they will not be relevant in the model**, these columns are **(transaction_id, customer_id, shipping_address, billing_address)**\n",
    "</b>\n",
    "\n",
    "so we will remove thim"
   ]
  },
  {
   "cell_type": "code",
   "execution_count": 10,
   "id": "73d6c0a4-49a3-4313-8906-05aaec979a84",
   "metadata": {},
   "outputs": [],
   "source": [
    "drop_columns = [\"transaction_id\", \"customer_id\", \"shipping_address\", \"billing_address\", \"ip_address\"]\n",
    "df_modified = df.drop(drop_columns, axis = 1)"
   ]
  },
  {
   "cell_type": "code",
   "execution_count": 11,
   "id": "35af1899-c14c-4242-a90f-53b50fb4026a",
   "metadata": {},
   "outputs": [
    {
     "data": {
      "text/plain": [
       "customer_location     31856\n",
       "transaction_amount    38268\n",
       "transaction_date      73341\n",
       "payment_method            4\n",
       "product_category          5\n",
       "quantity                  5\n",
       "customer_age             82\n",
       "device_used               3\n",
       "is_fraudulent             2\n",
       "account_age_days        365\n",
       "transaction_hour         24\n",
       "dtype: int64"
      ]
     },
     "execution_count": 11,
     "metadata": {},
     "output_type": "execute_result"
    }
   ],
   "source": [
    "df_modified.nunique()"
   ]
  },
  {
   "cell_type": "code",
   "execution_count": 12,
   "id": "33887de5-c0fb-4050-a92a-a28ffc173d81",
   "metadata": {},
   "outputs": [
    {
     "data": {
      "text/html": [
       "<div>\n",
       "<style scoped>\n",
       "    .dataframe tbody tr th:only-of-type {\n",
       "        vertical-align: middle;\n",
       "    }\n",
       "\n",
       "    .dataframe tbody tr th {\n",
       "        vertical-align: top;\n",
       "    }\n",
       "\n",
       "    .dataframe thead th {\n",
       "        text-align: right;\n",
       "    }\n",
       "</style>\n",
       "<table border=\"1\" class=\"dataframe\">\n",
       "  <thead>\n",
       "    <tr style=\"text-align: right;\">\n",
       "      <th></th>\n",
       "      <th>transaction_amount</th>\n",
       "      <th>transaction_date</th>\n",
       "      <th>quantity</th>\n",
       "      <th>customer_age</th>\n",
       "      <th>is_fraudulent</th>\n",
       "      <th>account_age_days</th>\n",
       "      <th>transaction_hour</th>\n",
       "    </tr>\n",
       "  </thead>\n",
       "  <tbody>\n",
       "    <tr>\n",
       "      <th>count</th>\n",
       "      <td>73648.000000</td>\n",
       "      <td>73648</td>\n",
       "      <td>73648.000000</td>\n",
       "      <td>73648.000000</td>\n",
       "      <td>73648.000000</td>\n",
       "      <td>73648.000000</td>\n",
       "      <td>73648.000000</td>\n",
       "    </tr>\n",
       "    <tr>\n",
       "      <th>mean</th>\n",
       "      <td>225.399182</td>\n",
       "      <td>2024-02-16 15:10:44.747175936</td>\n",
       "      <td>2.996891</td>\n",
       "      <td>34.501575</td>\n",
       "      <td>0.050823</td>\n",
       "      <td>179.433902</td>\n",
       "      <td>11.283036</td>\n",
       "    </tr>\n",
       "    <tr>\n",
       "      <th>min</th>\n",
       "      <td>10.000000</td>\n",
       "      <td>2024-01-01 00:05:55</td>\n",
       "      <td>1.000000</td>\n",
       "      <td>-16.000000</td>\n",
       "      <td>0.000000</td>\n",
       "      <td>1.000000</td>\n",
       "      <td>0.000000</td>\n",
       "    </tr>\n",
       "    <tr>\n",
       "      <th>25%</th>\n",
       "      <td>67.897500</td>\n",
       "      <td>2024-01-24 05:21:13.750000128</td>\n",
       "      <td>2.000000</td>\n",
       "      <td>28.000000</td>\n",
       "      <td>0.000000</td>\n",
       "      <td>86.000000</td>\n",
       "      <td>5.000000</td>\n",
       "    </tr>\n",
       "    <tr>\n",
       "      <th>50%</th>\n",
       "      <td>150.820000</td>\n",
       "      <td>2024-02-16 16:00:07.500000</td>\n",
       "      <td>3.000000</td>\n",
       "      <td>35.000000</td>\n",
       "      <td>0.000000</td>\n",
       "      <td>179.000000</td>\n",
       "      <td>11.000000</td>\n",
       "    </tr>\n",
       "    <tr>\n",
       "      <th>75%</th>\n",
       "      <td>294.202500</td>\n",
       "      <td>2024-03-11 00:07:52.750000128</td>\n",
       "      <td>4.000000</td>\n",
       "      <td>41.000000</td>\n",
       "      <td>0.000000</td>\n",
       "      <td>272.000000</td>\n",
       "      <td>17.000000</td>\n",
       "    </tr>\n",
       "    <tr>\n",
       "      <th>max</th>\n",
       "      <td>7090.900000</td>\n",
       "      <td>2024-04-03 08:11:00</td>\n",
       "      <td>5.000000</td>\n",
       "      <td>79.000000</td>\n",
       "      <td>1.000000</td>\n",
       "      <td>365.000000</td>\n",
       "      <td>23.000000</td>\n",
       "    </tr>\n",
       "    <tr>\n",
       "      <th>std</th>\n",
       "      <td>264.449171</td>\n",
       "      <td>NaN</td>\n",
       "      <td>1.412803</td>\n",
       "      <td>9.998541</td>\n",
       "      <td>0.219637</td>\n",
       "      <td>107.124606</td>\n",
       "      <td>6.984900</td>\n",
       "    </tr>\n",
       "  </tbody>\n",
       "</table>\n",
       "</div>"
      ],
      "text/plain": [
       "       transaction_amount               transaction_date      quantity  \\\n",
       "count        73648.000000                          73648  73648.000000   \n",
       "mean           225.399182  2024-02-16 15:10:44.747175936      2.996891   \n",
       "min             10.000000            2024-01-01 00:05:55      1.000000   \n",
       "25%             67.897500  2024-01-24 05:21:13.750000128      2.000000   \n",
       "50%            150.820000     2024-02-16 16:00:07.500000      3.000000   \n",
       "75%            294.202500  2024-03-11 00:07:52.750000128      4.000000   \n",
       "max           7090.900000            2024-04-03 08:11:00      5.000000   \n",
       "std            264.449171                            NaN      1.412803   \n",
       "\n",
       "       customer_age  is_fraudulent  account_age_days  transaction_hour  \n",
       "count  73648.000000   73648.000000      73648.000000      73648.000000  \n",
       "mean      34.501575       0.050823        179.433902         11.283036  \n",
       "min      -16.000000       0.000000          1.000000          0.000000  \n",
       "25%       28.000000       0.000000         86.000000          5.000000  \n",
       "50%       35.000000       0.000000        179.000000         11.000000  \n",
       "75%       41.000000       0.000000        272.000000         17.000000  \n",
       "max       79.000000       1.000000        365.000000         23.000000  \n",
       "std        9.998541       0.219637        107.124606          6.984900  "
      ]
     },
     "execution_count": 12,
     "metadata": {},
     "output_type": "execute_result"
    }
   ],
   "source": [
    "df_modified.describe()"
   ]
  },
  {
   "cell_type": "markdown",
   "id": "96482317-3563-4e9c-b105-0a4047203e23",
   "metadata": {},
   "source": [
    "**There are wierd values in the age**"
   ]
  },
  {
   "cell_type": "markdown",
   "id": "0852923c-d5a6-4767-8e82-7a4bb1352e80",
   "metadata": {
    "jp-MarkdownHeadingCollapsed": true
   },
   "source": [
    "### Solving the weird age values\n",
    "some age values are less than 16, some are even by negative"
   ]
  },
  {
   "cell_type": "code",
   "execution_count": 13,
   "id": "e2bb0061-18f2-42c1-9608-5adfc08cc9c7",
   "metadata": {},
   "outputs": [
    {
     "data": {
      "text/plain": [
       "customer_age\n",
       " 16    537\n",
       " 15    456\n",
       " 14    346\n",
       " 13    323\n",
       " 12    244\n",
       " 11    191\n",
       " 10    128\n",
       " 9     100\n",
       " 8      93\n",
       " 7      65\n",
       " 6      59\n",
       " 5      45\n",
       " 4      23\n",
       " 3      22\n",
       " 2      17\n",
       " 0      14\n",
       " 1      10\n",
       "-2       4\n",
       "-1       3\n",
       "-16      1\n",
       "-8       1\n",
       "-3       1\n",
       "Name: count, dtype: int64"
      ]
     },
     "execution_count": 13,
     "metadata": {},
     "output_type": "execute_result"
    }
   ],
   "source": [
    "df_modified.query(\"customer_age <= 16\")[\"customer_age\"].value_counts()"
   ]
  },
  {
   "cell_type": "code",
   "execution_count": 14,
   "id": "3189e0f8-f828-47a9-bfda-8e8f4d1e3a4b",
   "metadata": {},
   "outputs": [
    {
     "data": {
      "text/plain": [
       "is_fraudulent\n",
       "0    2535\n",
       "1     148\n",
       "Name: count, dtype: int64"
      ]
     },
     "execution_count": 14,
     "metadata": {},
     "output_type": "execute_result"
    }
   ],
   "source": [
    "df_modified.query(\"customer_age <= 16\")[\"is_fraudulent\"].value_counts()"
   ]
  },
  {
   "cell_type": "code",
   "execution_count": 15,
   "id": "f82c2deb-fa5f-4e93-a7c6-b534e9c7f764",
   "metadata": {},
   "outputs": [
    {
     "name": "stdout",
     "output_type": "stream",
     "text": [
      "The percentage of the wrong age compared to that of the total sample is 0.04\n",
      "The percentage of fraud samples in the wrong age compared to that of the total sample is 0.04\n"
     ]
    }
   ],
   "source": [
    "percentage_fraud = 148 / len(df_modified.query(\"is_fraudulent == 1\"))\n",
    "percentage_total = len(df_modified.query(\"customer_age <= 16\")) / len(df_modified)\n",
    "print(f\"The percentage of the wrong age compared to that of the total sample is {round(percentage_total, 2)}\")\n",
    "print(f\"The percentage of fraud samples in the wrong age compared to that of the total sample is {round(percentage_fraud, 2)}\")"
   ]
  },
  {
   "cell_type": "code",
   "execution_count": 16,
   "id": "55e8e644-01d1-4e88-836b-7fed9ff7ea07",
   "metadata": {},
   "outputs": [
    {
     "data": {
      "image/png": "[encoded data removed]",
      "text/plain": [
       "<Figure size 1200x500 with 2 Axes>"
      ]
     },
     "metadata": {},
     "output_type": "display_data"
    }
   ],
   "source": [
    "fig, (ax1, ax2) = plt.subplots(1, 2, figsize=(12, 5))\n",
    "\n",
    "# Plot histogram for the entire \"customer_age\"\n",
    "ax1.hist(df_modified[\"customer_age\"], bins=20, color='skyblue', edgecolor='black')\n",
    "ax1.set_title(\"The distribution of age\", size=18)\n",
    "ax1.set_xlabel(\"Age\")\n",
    "ax1.set_ylabel(\"Frequency\")\n",
    "ax1.grid(True)\n",
    "\n",
    "# Plot histogram for \"customer_age >= 16\"\n",
    "ax2.hist(df_modified.query(\"customer_age >= 16\")[\"customer_age\"], bins=20, color='lightgreen', edgecolor='black')\n",
    "ax2.set_title(\"The distribution of age > 16\", size=18)\n",
    "ax2.set_xlabel(\"Age\")\n",
    "ax2.set_ylabel(\"Frequency\")\n",
    "ax2.grid(True)"
   ]
  },
  {
   "cell_type": "markdown",
   "id": "52fd3c68-ac62-439d-a051-8a0027e1cfe0",
   "metadata": {},
   "source": [
    "**I decided to remove the columns that has age less than 16**"
   ]
  },
  {
   "cell_type": "code",
   "execution_count": 17,
   "id": "589d8197-de79-42f7-9997-7571d345f095",
   "metadata": {},
   "outputs": [],
   "source": [
    "wrong_age_indices = df_modified.query(\"customer_age <= 15\").index\n",
    "df_modified.drop(wrong_age_indices, axis = 0, inplace = True)"
   ]
  },
  {
   "cell_type": "code",
   "execution_count": 18,
   "id": "9b7cfaf2-5336-4805-88fb-a544d8950be1",
   "metadata": {},
   "outputs": [
    {
     "data": {
      "text/html": [
       "<div>\n",
       "<style scoped>\n",
       "    .dataframe tbody tr th:only-of-type {\n",
       "        vertical-align: middle;\n",
       "    }\n",
       "\n",
       "    .dataframe tbody tr th {\n",
       "        vertical-align: top;\n",
       "    }\n",
       "\n",
       "    .dataframe thead th {\n",
       "        text-align: right;\n",
       "    }\n",
       "</style>\n",
       "<table border=\"1\" class=\"dataframe\">\n",
       "  <thead>\n",
       "    <tr style=\"text-align: right;\">\n",
       "      <th></th>\n",
       "      <th>transaction_amount</th>\n",
       "      <th>transaction_date</th>\n",
       "      <th>quantity</th>\n",
       "      <th>customer_age</th>\n",
       "      <th>is_fraudulent</th>\n",
       "      <th>account_age_days</th>\n",
       "      <th>transaction_hour</th>\n",
       "    </tr>\n",
       "  </thead>\n",
       "  <tbody>\n",
       "    <tr>\n",
       "      <th>count</th>\n",
       "      <td>71502.000000</td>\n",
       "      <td>71502</td>\n",
       "      <td>71502.000000</td>\n",
       "      <td>71502.000000</td>\n",
       "      <td>71502.000000</td>\n",
       "      <td>71502.000000</td>\n",
       "      <td>71502.000000</td>\n",
       "    </tr>\n",
       "    <tr>\n",
       "      <th>mean</th>\n",
       "      <td>225.422702</td>\n",
       "      <td>2024-02-16 15:33:20.087158272</td>\n",
       "      <td>2.995567</td>\n",
       "      <td>35.186960</td>\n",
       "      <td>0.050670</td>\n",
       "      <td>179.561747</td>\n",
       "      <td>11.283600</td>\n",
       "    </tr>\n",
       "    <tr>\n",
       "      <th>min</th>\n",
       "      <td>10.000000</td>\n",
       "      <td>2024-01-01 00:05:55</td>\n",
       "      <td>1.000000</td>\n",
       "      <td>16.000000</td>\n",
       "      <td>0.000000</td>\n",
       "      <td>1.000000</td>\n",
       "      <td>0.000000</td>\n",
       "    </tr>\n",
       "    <tr>\n",
       "      <th>25%</th>\n",
       "      <td>67.902500</td>\n",
       "      <td>2024-01-24 05:38:13.500000</td>\n",
       "      <td>2.000000</td>\n",
       "      <td>28.000000</td>\n",
       "      <td>0.000000</td>\n",
       "      <td>86.000000</td>\n",
       "      <td>5.000000</td>\n",
       "    </tr>\n",
       "    <tr>\n",
       "      <th>50%</th>\n",
       "      <td>150.990000</td>\n",
       "      <td>2024-02-16 16:32:58</td>\n",
       "      <td>3.000000</td>\n",
       "      <td>35.000000</td>\n",
       "      <td>0.000000</td>\n",
       "      <td>179.000000</td>\n",
       "      <td>11.000000</td>\n",
       "    </tr>\n",
       "    <tr>\n",
       "      <th>75%</th>\n",
       "      <td>294.337500</td>\n",
       "      <td>2024-03-11 01:03:30.249999872</td>\n",
       "      <td>4.000000</td>\n",
       "      <td>41.000000</td>\n",
       "      <td>0.000000</td>\n",
       "      <td>273.000000</td>\n",
       "      <td>17.000000</td>\n",
       "    </tr>\n",
       "    <tr>\n",
       "      <th>max</th>\n",
       "      <td>7090.900000</td>\n",
       "      <td>2024-04-03 08:11:00</td>\n",
       "      <td>5.000000</td>\n",
       "      <td>79.000000</td>\n",
       "      <td>1.000000</td>\n",
       "      <td>365.000000</td>\n",
       "      <td>23.000000</td>\n",
       "    </tr>\n",
       "    <tr>\n",
       "      <th>std</th>\n",
       "      <td>264.132896</td>\n",
       "      <td>NaN</td>\n",
       "      <td>1.413292</td>\n",
       "      <td>9.300172</td>\n",
       "      <td>0.219324</td>\n",
       "      <td>107.136075</td>\n",
       "      <td>6.985095</td>\n",
       "    </tr>\n",
       "  </tbody>\n",
       "</table>\n",
       "</div>"
      ],
      "text/plain": [
       "       transaction_amount               transaction_date      quantity  \\\n",
       "count        71502.000000                          71502  71502.000000   \n",
       "mean           225.422702  2024-02-16 15:33:20.087158272      2.995567   \n",
       "min             10.000000            2024-01-01 00:05:55      1.000000   \n",
       "25%             67.902500     2024-01-24 05:38:13.500000      2.000000   \n",
       "50%            150.990000            2024-02-16 16:32:58      3.000000   \n",
       "75%            294.337500  2024-03-11 01:03:30.249999872      4.000000   \n",
       "max           7090.900000            2024-04-03 08:11:00      5.000000   \n",
       "std            264.132896                            NaN      1.413292   \n",
       "\n",
       "       customer_age  is_fraudulent  account_age_days  transaction_hour  \n",
       "count  71502.000000   71502.000000      71502.000000      71502.000000  \n",
       "mean      35.186960       0.050670        179.561747         11.283600  \n",
       "min       16.000000       0.000000          1.000000          0.000000  \n",
       "25%       28.000000       0.000000         86.000000          5.000000  \n",
       "50%       35.000000       0.000000        179.000000         11.000000  \n",
       "75%       41.000000       0.000000        273.000000         17.000000  \n",
       "max       79.000000       1.000000        365.000000         23.000000  \n",
       "std        9.300172       0.219324        107.136075          6.985095  "
      ]
     },
     "execution_count": 18,
     "metadata": {},
     "output_type": "execute_result"
    }
   ],
   "source": [
    "df_modified.describe()"
   ]
  },
  {
   "cell_type": "markdown",
   "id": "b91e7da8-a8af-4a15-a7b7-8010b1bc8dcc",
   "metadata": {},
   "source": [
    "## Explotary analysis"
   ]
  },
  {
   "cell_type": "code",
   "execution_count": 19,
   "id": "4bc797ba-d9fe-4a00-b679-5e8e48091a4e",
   "metadata": {},
   "outputs": [
    {
     "data": {
      "text/html": [
       "<div>\n",
       "<style scoped>\n",
       "    .dataframe tbody tr th:only-of-type {\n",
       "        vertical-align: middle;\n",
       "    }\n",
       "\n",
       "    .dataframe tbody tr th {\n",
       "        vertical-align: top;\n",
       "    }\n",
       "\n",
       "    .dataframe thead th {\n",
       "        text-align: right;\n",
       "    }\n",
       "</style>\n",
       "<table border=\"1\" class=\"dataframe\">\n",
       "  <thead>\n",
       "    <tr style=\"text-align: right;\">\n",
       "      <th></th>\n",
       "      <th>customer_location</th>\n",
       "      <th>transaction_amount</th>\n",
       "      <th>transaction_date</th>\n",
       "      <th>payment_method</th>\n",
       "      <th>product_category</th>\n",
       "      <th>quantity</th>\n",
       "      <th>customer_age</th>\n",
       "      <th>device_used</th>\n",
       "      <th>is_fraudulent</th>\n",
       "      <th>account_age_days</th>\n",
       "      <th>transaction_hour</th>\n",
       "    </tr>\n",
       "  </thead>\n",
       "  <tbody>\n",
       "    <tr>\n",
       "      <th>1</th>\n",
       "      <td>Arroyoborough</td>\n",
       "      <td>292.86</td>\n",
       "      <td>2024-01-04 03:40:16</td>\n",
       "      <td>debit card</td>\n",
       "      <td>home &amp; garden</td>\n",
       "      <td>3</td>\n",
       "      <td>22</td>\n",
       "      <td>mobile</td>\n",
       "      <td>0</td>\n",
       "      <td>148</td>\n",
       "      <td>3</td>\n",
       "    </tr>\n",
       "    <tr>\n",
       "      <th>2</th>\n",
       "      <td>Danielton</td>\n",
       "      <td>31.46</td>\n",
       "      <td>2024-01-20 06:15:28</td>\n",
       "      <td>debit card</td>\n",
       "      <td>toys &amp; games</td>\n",
       "      <td>4</td>\n",
       "      <td>32</td>\n",
       "      <td>desktop</td>\n",
       "      <td>0</td>\n",
       "      <td>146</td>\n",
       "      <td>6</td>\n",
       "    </tr>\n",
       "    <tr>\n",
       "      <th>3</th>\n",
       "      <td>West Shannon</td>\n",
       "      <td>41.78</td>\n",
       "      <td>2024-03-29 15:53:59</td>\n",
       "      <td>bank transfer</td>\n",
       "      <td>clothing</td>\n",
       "      <td>5</td>\n",
       "      <td>27</td>\n",
       "      <td>mobile</td>\n",
       "      <td>0</td>\n",
       "      <td>216</td>\n",
       "      <td>15</td>\n",
       "    </tr>\n",
       "    <tr>\n",
       "      <th>5</th>\n",
       "      <td>Port Travisshire</td>\n",
       "      <td>119.58</td>\n",
       "      <td>2024-03-18 03:01:12</td>\n",
       "      <td>PayPal</td>\n",
       "      <td>health &amp; beauty</td>\n",
       "      <td>5</td>\n",
       "      <td>26</td>\n",
       "      <td>desktop</td>\n",
       "      <td>0</td>\n",
       "      <td>215</td>\n",
       "      <td>3</td>\n",
       "    </tr>\n",
       "    <tr>\n",
       "      <th>6</th>\n",
       "      <td>East Brianview</td>\n",
       "      <td>273.27</td>\n",
       "      <td>2024-01-30 01:43:01</td>\n",
       "      <td>bank transfer</td>\n",
       "      <td>home &amp; garden</td>\n",
       "      <td>1</td>\n",
       "      <td>30</td>\n",
       "      <td>desktop</td>\n",
       "      <td>0</td>\n",
       "      <td>264</td>\n",
       "      <td>1</td>\n",
       "    </tr>\n",
       "  </tbody>\n",
       "</table>\n",
       "</div>"
      ],
      "text/plain": [
       "  customer_location  transaction_amount    transaction_date payment_method  \\\n",
       "1     Arroyoborough              292.86 2024-01-04 03:40:16     debit card   \n",
       "2         Danielton               31.46 2024-01-20 06:15:28     debit card   \n",
       "3      West Shannon               41.78 2024-03-29 15:53:59  bank transfer   \n",
       "5  Port Travisshire              119.58 2024-03-18 03:01:12         PayPal   \n",
       "6    East Brianview              273.27 2024-01-30 01:43:01  bank transfer   \n",
       "\n",
       "  product_category  quantity  customer_age device_used  is_fraudulent  \\\n",
       "1    home & garden         3            22      mobile              0   \n",
       "2     toys & games         4            32     desktop              0   \n",
       "3         clothing         5            27      mobile              0   \n",
       "5  health & beauty         5            26     desktop              0   \n",
       "6    home & garden         1            30     desktop              0   \n",
       "\n",
       "   account_age_days  transaction_hour  \n",
       "1               148                 3  \n",
       "2               146                 6  \n",
       "3               216                15  \n",
       "5               215                 3  \n",
       "6               264                 1  "
      ]
     },
     "execution_count": 19,
     "metadata": {},
     "output_type": "execute_result"
    }
   ],
   "source": [
    "df_modified.head()"
   ]
  },
  {
   "cell_type": "code",
   "execution_count": 20,
   "id": "afe61dcc-1d9a-4c71-8c34-dcd0ab6a3a4c",
   "metadata": {},
   "outputs": [
    {
     "data": {
      "text/plain": [
       "is_fraudulent\n",
       "0    69905\n",
       "1     3743\n",
       "Name: count, dtype: int64"
      ]
     },
     "execution_count": 20,
     "metadata": {},
     "output_type": "execute_result"
    }
   ],
   "source": [
    "df[\"is_fraudulent\"].value_counts()"
   ]
  },
  {
   "cell_type": "code",
   "execution_count": 21,
   "id": "061ca3f8-3ebc-4a6a-8c2c-74cbdb32b9ed",
   "metadata": {},
   "outputs": [
    {
     "data": {
      "image/png": "[encoded data removed]",
      "text/plain": [
       "<Figure size 700x500 with 1 Axes>"
      ]
     },
     "metadata": {},
     "output_type": "display_data"
    }
   ],
   "source": [
    "data = df[\"is_fraudulent\"].value_counts()\n",
    "\n",
    "plt.figure(figsize = (7, 5))\n",
    "plt.pie(data, explode = [0.05, 0.05], autopct = \"%1.1f%%\", labels = [\"Not Fraud\", \"Fraud\"])\n",
    "\n",
    "plt.title(\"The percentage of fraud\", size = 18);"
   ]
  },
  {
   "cell_type": "code",
   "execution_count": 22,
   "id": "d5e895b1-6a59-4709-a4ee-5e1508aa4f80",
   "metadata": {},
   "outputs": [
    {
     "data": {
      "text/plain": [
       "customer_location\n",
       "New Michael         74\n",
       "East Michael        73\n",
       "West Michael        67\n",
       "Port Michael        61\n",
       "Lake Michael        55\n",
       "                    ..\n",
       "South Jessefort      1\n",
       "Lake Rickyside       1\n",
       "West Angelaburgh     1\n",
       "Garzaview            1\n",
       "Nixonborough         1\n",
       "Name: count, Length: 31272, dtype: int64"
      ]
     },
     "execution_count": 22,
     "metadata": {},
     "output_type": "execute_result"
    }
   ],
   "source": [
    "df_modified[\"customer_location\"].value_counts()"
   ]
  },
  {
   "cell_type": "code",
   "execution_count": 23,
   "id": "03973d12-80ab-4ef6-b23f-7e0862da4a3f",
   "metadata": {},
   "outputs": [
    {
     "data": {
      "image/png": "[encoded data removed]",
      "text/plain": [
       "<Figure size 1200x700 with 2 Axes>"
      ]
     },
     "metadata": {},
     "output_type": "display_data"
    }
   ],
   "source": [
    "fig, (ax1, ax2) = plt.subplots(1, 2, figsize = (12, 7))\n",
    "\n",
    "ax1.hist(df_modified[\"transaction_amount\"], bins = 20, color = \"skyblue\", edgecolor = \"black\")\n",
    "ax1.set_title(\"The distripution of transcation amount\", size = 18)\n",
    "ax1.grid(True)\n",
    "\n",
    "ax2.boxplot(df_modified[\"transaction_amount\"])\n",
    "ax2.set_title(\"The distripution of transcation amount\", size = 18)\n",
    "ax2.grid(True)"
   ]
  },
  {
   "cell_type": "code",
   "execution_count": 24,
   "id": "11e18286-b5e2-4227-815b-deac5678d121",
   "metadata": {},
   "outputs": [],
   "source": [
    "def pie_chart(column):\n",
    "    data = column.value_counts()\n",
    "\n",
    "    explode = np.full(len(data), 0.05)\n",
    "\n",
    "    plt.figure(figsize = (7, 5))\n",
    "    plt.pie(data, explode = explode, autopct = \"%1.1f%%\", labels = data.index)\n",
    "    \n",
    "    plt.title(f\"The percentage of {column.name}\", size = 18);"
   ]
  },
  {
   "cell_type": "code",
   "execution_count": 25,
   "id": "c1485803-b9b3-4cbf-b0cb-b32e2f7cd35d",
   "metadata": {},
   "outputs": [
    {
     "data": {
      "image/png": "[encoded data removed]",
      "text/plain": [
       "<Figure size 700x500 with 1 Axes>"
      ]
     },
     "metadata": {},
     "output_type": "display_data"
    }
   ],
   "source": [
    "pie_chart(df_modified[\"payment_method\"])"
   ]
  },
  {
   "cell_type": "code",
   "execution_count": 26,
   "id": "96dddef3-716a-4234-91cc-ae8f9477cf50",
   "metadata": {},
   "outputs": [
    {
     "data": {
      "image/png": "[encoded data removed]",
      "text/plain": [
       "<Figure size 700x500 with 1 Axes>"
      ]
     },
     "metadata": {},
     "output_type": "display_data"
    }
   ],
   "source": [
    "pie_chart(df_modified[\"product_category\"])"
   ]
  },
  {
   "cell_type": "code",
   "execution_count": 27,
   "id": "a2059d8e-0493-45e6-b599-70d27867adbb",
   "metadata": {},
   "outputs": [
    {
     "data": {
      "image/png": "[encoded data removed]",
      "text/plain": [
       "<Figure size 700x500 with 1 Axes>"
      ]
     },
     "metadata": {},
     "output_type": "display_data"
    }
   ],
   "source": [
    "pie_chart(df_modified[\"device_used\"])"
   ]
  },
  {
   "cell_type": "code",
   "execution_count": 28,
   "id": "dbcad247-e8f4-4227-89e1-3da49fda7143",
   "metadata": {},
   "outputs": [
    {
     "data": {
      "image/png": "[encoded data removed]",
      "text/plain": [
       "<Figure size 700x500 with 1 Axes>"
      ]
     },
     "metadata": {},
     "output_type": "display_data"
    }
   ],
   "source": [
    "pie_chart(df_modified[\"quantity\"])"
   ]
  },
  {
   "cell_type": "code",
   "execution_count": 29,
   "id": "0bf0dd23-bfc9-4002-9e34-02cc4d516d36",
   "metadata": {},
   "outputs": [
    {
     "data": {
      "image/png": "[encoded data removed]",
      "text/plain": [
       "<Figure size 1200x700 with 2 Axes>"
      ]
     },
     "metadata": {},
     "output_type": "display_data"
    }
   ],
   "source": [
    "fig, (ax1, ax2) = plt.subplots(1, 2, figsize = (12, 7))\n",
    "\n",
    "ax1.hist(df_modified[\"transaction_hour\"], bins = 20, color = \"skyblue\", edgecolor = \"black\")\n",
    "ax1.set_title(\"The distripution of transcation hour\", size = 18)\n",
    "ax1.grid(True)\n",
    "\n",
    "ax2.boxplot(df_modified[\"transaction_hour\"])\n",
    "ax2.set_title(\"The distripution of transcation hour\", size = 18)\n",
    "ax2.grid(True)"
   ]
  },
  {
   "cell_type": "code",
   "execution_count": 30,
   "id": "e1c58564-81ad-4bc9-aa17-65080be35da8",
   "metadata": {},
   "outputs": [
    {
     "data": {
      "text/html": [
       "<div>\n",
       "<style scoped>\n",
       "    .dataframe tbody tr th:only-of-type {\n",
       "        vertical-align: middle;\n",
       "    }\n",
       "\n",
       "    .dataframe tbody tr th {\n",
       "        vertical-align: top;\n",
       "    }\n",
       "\n",
       "    .dataframe thead th {\n",
       "        text-align: right;\n",
       "    }\n",
       "</style>\n",
       "<table border=\"1\" class=\"dataframe\">\n",
       "  <thead>\n",
       "    <tr style=\"text-align: right;\">\n",
       "      <th></th>\n",
       "      <th>customer_location</th>\n",
       "      <th>transaction_amount</th>\n",
       "      <th>transaction_date</th>\n",
       "      <th>payment_method</th>\n",
       "      <th>product_category</th>\n",
       "      <th>quantity</th>\n",
       "      <th>customer_age</th>\n",
       "      <th>device_used</th>\n",
       "      <th>is_fraudulent</th>\n",
       "      <th>account_age_days</th>\n",
       "      <th>transaction_hour</th>\n",
       "    </tr>\n",
       "  </thead>\n",
       "  <tbody>\n",
       "    <tr>\n",
       "      <th>1</th>\n",
       "      <td>Arroyoborough</td>\n",
       "      <td>292.86</td>\n",
       "      <td>2024-01-04 03:40:16</td>\n",
       "      <td>debit card</td>\n",
       "      <td>home &amp; garden</td>\n",
       "      <td>3</td>\n",
       "      <td>22</td>\n",
       "      <td>mobile</td>\n",
       "      <td>0</td>\n",
       "      <td>148</td>\n",
       "      <td>3</td>\n",
       "    </tr>\n",
       "    <tr>\n",
       "      <th>2</th>\n",
       "      <td>Danielton</td>\n",
       "      <td>31.46</td>\n",
       "      <td>2024-01-20 06:15:28</td>\n",
       "      <td>debit card</td>\n",
       "      <td>toys &amp; games</td>\n",
       "      <td>4</td>\n",
       "      <td>32</td>\n",
       "      <td>desktop</td>\n",
       "      <td>0</td>\n",
       "      <td>146</td>\n",
       "      <td>6</td>\n",
       "    </tr>\n",
       "    <tr>\n",
       "      <th>3</th>\n",
       "      <td>West Shannon</td>\n",
       "      <td>41.78</td>\n",
       "      <td>2024-03-29 15:53:59</td>\n",
       "      <td>bank transfer</td>\n",
       "      <td>clothing</td>\n",
       "      <td>5</td>\n",
       "      <td>27</td>\n",
       "      <td>mobile</td>\n",
       "      <td>0</td>\n",
       "      <td>216</td>\n",
       "      <td>15</td>\n",
       "    </tr>\n",
       "    <tr>\n",
       "      <th>5</th>\n",
       "      <td>Port Travisshire</td>\n",
       "      <td>119.58</td>\n",
       "      <td>2024-03-18 03:01:12</td>\n",
       "      <td>PayPal</td>\n",
       "      <td>health &amp; beauty</td>\n",
       "      <td>5</td>\n",
       "      <td>26</td>\n",
       "      <td>desktop</td>\n",
       "      <td>0</td>\n",
       "      <td>215</td>\n",
       "      <td>3</td>\n",
       "    </tr>\n",
       "    <tr>\n",
       "      <th>6</th>\n",
       "      <td>East Brianview</td>\n",
       "      <td>273.27</td>\n",
       "      <td>2024-01-30 01:43:01</td>\n",
       "      <td>bank transfer</td>\n",
       "      <td>home &amp; garden</td>\n",
       "      <td>1</td>\n",
       "      <td>30</td>\n",
       "      <td>desktop</td>\n",
       "      <td>0</td>\n",
       "      <td>264</td>\n",
       "      <td>1</td>\n",
       "    </tr>\n",
       "  </tbody>\n",
       "</table>\n",
       "</div>"
      ],
      "text/plain": [
       "  customer_location  transaction_amount    transaction_date payment_method  \\\n",
       "1     Arroyoborough              292.86 2024-01-04 03:40:16     debit card   \n",
       "2         Danielton               31.46 2024-01-20 06:15:28     debit card   \n",
       "3      West Shannon               41.78 2024-03-29 15:53:59  bank transfer   \n",
       "5  Port Travisshire              119.58 2024-03-18 03:01:12         PayPal   \n",
       "6    East Brianview              273.27 2024-01-30 01:43:01  bank transfer   \n",
       "\n",
       "  product_category  quantity  customer_age device_used  is_fraudulent  \\\n",
       "1    home & garden         3            22      mobile              0   \n",
       "2     toys & games         4            32     desktop              0   \n",
       "3         clothing         5            27      mobile              0   \n",
       "5  health & beauty         5            26     desktop              0   \n",
       "6    home & garden         1            30     desktop              0   \n",
       "\n",
       "   account_age_days  transaction_hour  \n",
       "1               148                 3  \n",
       "2               146                 6  \n",
       "3               216                15  \n",
       "5               215                 3  \n",
       "6               264                 1  "
      ]
     },
     "execution_count": 30,
     "metadata": {},
     "output_type": "execute_result"
    }
   ],
   "source": [
    "df_modified.head()"
   ]
  },
  {
   "cell_type": "markdown",
   "id": "b355abfb-d7f4-4570-8778-6d4bbd15a978",
   "metadata": {
    "jp-MarkdownHeadingCollapsed": true
   },
   "source": [
    "### studying the customer location\n",
    "There are more than 36 K differnt location, so iam studying the best thing to do with these columns"
   ]
  },
  {
   "cell_type": "code",
   "execution_count": 31,
   "id": "16ccb167-c2a4-4ae5-a107-28ba079b6a2e",
   "metadata": {},
   "outputs": [
    {
     "name": "stdout",
     "output_type": "stream",
     "text": [
      " The number of unique values 31272\n"
     ]
    }
   ],
   "source": [
    "print(f\" The number of unique values {df_modified['customer_location'].nunique()}\")"
   ]
  },
  {
   "cell_type": "code",
   "execution_count": 32,
   "id": "a93df4cd-2c61-4498-b727-3dff974fb624",
   "metadata": {},
   "outputs": [
    {
     "data": {
      "text/plain": [
       "customer_location\n",
       "New Michael         74\n",
       "East Michael        73\n",
       "West Michael        67\n",
       "Port Michael        61\n",
       "Lake Michael        55\n",
       "                    ..\n",
       "South Jessefort      1\n",
       "Lake Rickyside       1\n",
       "West Angelaburgh     1\n",
       "Garzaview            1\n",
       "Nixonborough         1\n",
       "Name: count, Length: 31272, dtype: int64"
      ]
     },
     "execution_count": 32,
     "metadata": {},
     "output_type": "execute_result"
    }
   ],
   "source": [
    "df_modified[\"customer_location\"].value_counts()"
   ]
  },
  {
   "cell_type": "code",
   "execution_count": 33,
   "id": "91076b60-8418-4804-870a-3476cbccd085",
   "metadata": {},
   "outputs": [
    {
     "data": {
      "text/html": [
       "<div>\n",
       "<style scoped>\n",
       "    .dataframe tbody tr th:only-of-type {\n",
       "        vertical-align: middle;\n",
       "    }\n",
       "\n",
       "    .dataframe tbody tr th {\n",
       "        vertical-align: top;\n",
       "    }\n",
       "\n",
       "    .dataframe thead th {\n",
       "        text-align: right;\n",
       "    }\n",
       "</style>\n",
       "<table border=\"1\" class=\"dataframe\">\n",
       "  <thead>\n",
       "    <tr style=\"text-align: right;\">\n",
       "      <th></th>\n",
       "      <th>sum</th>\n",
       "      <th>count</th>\n",
       "      <th>percentage</th>\n",
       "    </tr>\n",
       "    <tr>\n",
       "      <th>customer_location</th>\n",
       "      <th></th>\n",
       "      <th></th>\n",
       "      <th></th>\n",
       "    </tr>\n",
       "  </thead>\n",
       "  <tbody>\n",
       "    <tr>\n",
       "      <th>Aaronberg</th>\n",
       "      <td>0</td>\n",
       "      <td>3</td>\n",
       "      <td>0.0</td>\n",
       "    </tr>\n",
       "    <tr>\n",
       "      <th>Aaronborough</th>\n",
       "      <td>2</td>\n",
       "      <td>4</td>\n",
       "      <td>0.5</td>\n",
       "    </tr>\n",
       "    <tr>\n",
       "      <th>Aaronburgh</th>\n",
       "      <td>0</td>\n",
       "      <td>4</td>\n",
       "      <td>0.0</td>\n",
       "    </tr>\n",
       "    <tr>\n",
       "      <th>Aaronbury</th>\n",
       "      <td>0</td>\n",
       "      <td>9</td>\n",
       "      <td>0.0</td>\n",
       "    </tr>\n",
       "    <tr>\n",
       "      <th>Aaronchester</th>\n",
       "      <td>0</td>\n",
       "      <td>6</td>\n",
       "      <td>0.0</td>\n",
       "    </tr>\n",
       "    <tr>\n",
       "      <th>...</th>\n",
       "      <td>...</td>\n",
       "      <td>...</td>\n",
       "      <td>...</td>\n",
       "    </tr>\n",
       "    <tr>\n",
       "      <th>Zunigaborough</th>\n",
       "      <td>0</td>\n",
       "      <td>1</td>\n",
       "      <td>0.0</td>\n",
       "    </tr>\n",
       "    <tr>\n",
       "      <th>Zunigahaven</th>\n",
       "      <td>0</td>\n",
       "      <td>1</td>\n",
       "      <td>0.0</td>\n",
       "    </tr>\n",
       "    <tr>\n",
       "      <th>Zunigashire</th>\n",
       "      <td>0</td>\n",
       "      <td>1</td>\n",
       "      <td>0.0</td>\n",
       "    </tr>\n",
       "    <tr>\n",
       "      <th>Zunigaside</th>\n",
       "      <td>1</td>\n",
       "      <td>2</td>\n",
       "      <td>0.5</td>\n",
       "    </tr>\n",
       "    <tr>\n",
       "      <th>Zunigatown</th>\n",
       "      <td>0</td>\n",
       "      <td>1</td>\n",
       "      <td>0.0</td>\n",
       "    </tr>\n",
       "  </tbody>\n",
       "</table>\n",
       "<p>31856 rows × 3 columns</p>\n",
       "</div>"
      ],
      "text/plain": [
       "                   sum  count  percentage\n",
       "customer_location                        \n",
       "Aaronberg            0      3         0.0\n",
       "Aaronborough         2      4         0.5\n",
       "Aaronburgh           0      4         0.0\n",
       "Aaronbury            0      9         0.0\n",
       "Aaronchester         0      6         0.0\n",
       "...                ...    ...         ...\n",
       "Zunigaborough        0      1         0.0\n",
       "Zunigahaven          0      1         0.0\n",
       "Zunigashire          0      1         0.0\n",
       "Zunigaside           1      2         0.5\n",
       "Zunigatown           0      1         0.0\n",
       "\n",
       "[31856 rows x 3 columns]"
      ]
     },
     "execution_count": 33,
     "metadata": {},
     "output_type": "execute_result"
    }
   ],
   "source": [
    "# I will create a new dataframe for the number of fraudes in each location\n",
    "grouped_df = pd.DataFrame(df.groupby(\"customer_location\")[\"is_fraudulent\"].agg([\"sum\", \"count\"]))\n",
    "percentage = np.zeros(len(grouped_df)) #the percentage of fraud in each location\n",
    "for index in range(len(grouped_df)):\n",
    "    percentage[index] = round(grouped_df[\"sum\"].iloc[index] / grouped_df[\"count\"].iloc[index], 2)\n",
    "    \n",
    "grouped_df[\"percentage\"] = percentage\n",
    "grouped_df"
   ]
  },
  {
   "cell_type": "code",
   "execution_count": 34,
   "id": "cae3512d-5302-4c05-abdf-f3e1df7499c2",
   "metadata": {},
   "outputs": [
    {
     "data": {
      "text/plain": [
       "count\n",
       "1    955\n",
       "2    622\n",
       "3     20\n",
       "4     14\n",
       "Name: count, dtype: int64"
      ]
     },
     "execution_count": 34,
     "metadata": {},
     "output_type": "execute_result"
    }
   ],
   "source": [
    "#This means that the locations that scored more than 0.5 in fraud percentage have had how many transcations\n",
    "grouped_df.query(\"percentage >= 0.5\")[\"count\"].value_counts()"
   ]
  },
  {
   "cell_type": "markdown",
   "id": "34b882c6-9ed1-4564-9d96-1dfec528e55f",
   "metadata": {},
   "source": [
    ">**conclusion: most locations that has more than 50% frauds only had one transaction in the data, and the highst location have only 4 transactions, if i have feed this into the model it can be biased for certian locations**"
   ]
  },
  {
   "cell_type": "code",
   "execution_count": 35,
   "id": "eeffe96a-6bae-4698-9e76-b3ce6b6192af",
   "metadata": {},
   "outputs": [],
   "source": [
    "#So let's drop the customer location column\n",
    "df_modified.drop([\"customer_location\"], axis = 1, inplace = True)"
   ]
  },
  {
   "cell_type": "markdown",
   "id": "e7d44d2e-3daf-4ae3-bdee-626088c697b1",
   "metadata": {},
   "source": [
    "## Feature engineering"
   ]
  },
  {
   "cell_type": "markdown",
   "id": "e576eba8-071e-45db-b88f-bfdfdd180163",
   "metadata": {},
   "source": [
    "## Transaction Date\n",
    "**We want to add more features from the date feautre**\n",
    ">**The day of the week**\n",
    "\n",
    ">**The month of the year**"
   ]
  },
  {
   "cell_type": "code",
   "execution_count": 36,
   "id": "95ff0532-159c-4180-8469-7e66f9e18379",
   "metadata": {},
   "outputs": [
    {
     "name": "stdout",
     "output_type": "stream",
     "text": [
      "The oldest date is 2024-01-01 00:05:55\n",
      "The newst date is 2024-04-03 08:11:00\n"
     ]
    }
   ],
   "source": [
    "print(f\"The oldest date is {df_modified['transaction_date'].min()}\")\n",
    "print(f\"The newst date is {df_modified['transaction_date'].max()}\")"
   ]
  },
  {
   "cell_type": "markdown",
   "id": "65582482-dacc-4958-ad51-e6788c063619",
   "metadata": {},
   "source": [
    "Lets add the day of the week  \n",
    "0 = Monday  \n",
    "1 = Tuesday  \n",
    "2 = Wednesday  \n",
    "3 = Thursday  \n",
    "4 = Friday  \n",
    "5 = Saturday  \n",
    "6 = Sunday"
   ]
  },
  {
   "cell_type": "code",
   "execution_count": 37,
   "id": "889bbe21-0164-4298-95d6-0ddc92a996c6",
   "metadata": {},
   "outputs": [],
   "source": [
    "df_modified[\"transaction_day\"] = df_modified[\"transaction_date\"].dt.weekday"
   ]
  },
  {
   "cell_type": "code",
   "execution_count": 38,
   "id": "ab5addfe-b990-4c5b-9b6e-664ec2eab182",
   "metadata": {},
   "outputs": [],
   "source": [
    "# Extract the month of the year\n",
    "df_modified[\"transaction_month\"] = df_modified[\"transaction_date\"].dt.month"
   ]
  },
  {
   "cell_type": "code",
   "execution_count": 39,
   "id": "bf90a525-caf8-45b1-b368-e4432d0e36b4",
   "metadata": {},
   "outputs": [
    {
     "data": {
      "text/html": [
       "<div>\n",
       "<style scoped>\n",
       "    .dataframe tbody tr th:only-of-type {\n",
       "        vertical-align: middle;\n",
       "    }\n",
       "\n",
       "    .dataframe tbody tr th {\n",
       "        vertical-align: top;\n",
       "    }\n",
       "\n",
       "    .dataframe thead th {\n",
       "        text-align: right;\n",
       "    }\n",
       "</style>\n",
       "<table border=\"1\" class=\"dataframe\">\n",
       "  <thead>\n",
       "    <tr style=\"text-align: right;\">\n",
       "      <th></th>\n",
       "      <th>transaction_amount</th>\n",
       "      <th>transaction_date</th>\n",
       "      <th>payment_method</th>\n",
       "      <th>product_category</th>\n",
       "      <th>quantity</th>\n",
       "      <th>customer_age</th>\n",
       "      <th>device_used</th>\n",
       "      <th>is_fraudulent</th>\n",
       "      <th>account_age_days</th>\n",
       "      <th>transaction_hour</th>\n",
       "      <th>transaction_day</th>\n",
       "      <th>transaction_month</th>\n",
       "    </tr>\n",
       "  </thead>\n",
       "  <tbody>\n",
       "    <tr>\n",
       "      <th>1</th>\n",
       "      <td>292.86</td>\n",
       "      <td>2024-01-04 03:40:16</td>\n",
       "      <td>debit card</td>\n",
       "      <td>home &amp; garden</td>\n",
       "      <td>3</td>\n",
       "      <td>22</td>\n",
       "      <td>mobile</td>\n",
       "      <td>0</td>\n",
       "      <td>148</td>\n",
       "      <td>3</td>\n",
       "      <td>3</td>\n",
       "      <td>1</td>\n",
       "    </tr>\n",
       "    <tr>\n",
       "      <th>2</th>\n",
       "      <td>31.46</td>\n",
       "      <td>2024-01-20 06:15:28</td>\n",
       "      <td>debit card</td>\n",
       "      <td>toys &amp; games</td>\n",
       "      <td>4</td>\n",
       "      <td>32</td>\n",
       "      <td>desktop</td>\n",
       "      <td>0</td>\n",
       "      <td>146</td>\n",
       "      <td>6</td>\n",
       "      <td>5</td>\n",
       "      <td>1</td>\n",
       "    </tr>\n",
       "    <tr>\n",
       "      <th>3</th>\n",
       "      <td>41.78</td>\n",
       "      <td>2024-03-29 15:53:59</td>\n",
       "      <td>bank transfer</td>\n",
       "      <td>clothing</td>\n",
       "      <td>5</td>\n",
       "      <td>27</td>\n",
       "      <td>mobile</td>\n",
       "      <td>0</td>\n",
       "      <td>216</td>\n",
       "      <td>15</td>\n",
       "      <td>4</td>\n",
       "      <td>3</td>\n",
       "    </tr>\n",
       "    <tr>\n",
       "      <th>5</th>\n",
       "      <td>119.58</td>\n",
       "      <td>2024-03-18 03:01:12</td>\n",
       "      <td>PayPal</td>\n",
       "      <td>health &amp; beauty</td>\n",
       "      <td>5</td>\n",
       "      <td>26</td>\n",
       "      <td>desktop</td>\n",
       "      <td>0</td>\n",
       "      <td>215</td>\n",
       "      <td>3</td>\n",
       "      <td>0</td>\n",
       "      <td>3</td>\n",
       "    </tr>\n",
       "    <tr>\n",
       "      <th>6</th>\n",
       "      <td>273.27</td>\n",
       "      <td>2024-01-30 01:43:01</td>\n",
       "      <td>bank transfer</td>\n",
       "      <td>home &amp; garden</td>\n",
       "      <td>1</td>\n",
       "      <td>30</td>\n",
       "      <td>desktop</td>\n",
       "      <td>0</td>\n",
       "      <td>264</td>\n",
       "      <td>1</td>\n",
       "      <td>1</td>\n",
       "      <td>1</td>\n",
       "    </tr>\n",
       "    <tr>\n",
       "      <th>...</th>\n",
       "      <td>...</td>\n",
       "      <td>...</td>\n",
       "      <td>...</td>\n",
       "      <td>...</td>\n",
       "      <td>...</td>\n",
       "      <td>...</td>\n",
       "      <td>...</td>\n",
       "      <td>...</td>\n",
       "      <td>...</td>\n",
       "      <td>...</td>\n",
       "      <td>...</td>\n",
       "      <td>...</td>\n",
       "    </tr>\n",
       "    <tr>\n",
       "      <th>73643</th>\n",
       "      <td>651.09</td>\n",
       "      <td>2024-02-01 00:50:55</td>\n",
       "      <td>PayPal</td>\n",
       "      <td>toys &amp; games</td>\n",
       "      <td>1</td>\n",
       "      <td>34</td>\n",
       "      <td>mobile</td>\n",
       "      <td>0</td>\n",
       "      <td>260</td>\n",
       "      <td>0</td>\n",
       "      <td>3</td>\n",
       "      <td>2</td>\n",
       "    </tr>\n",
       "    <tr>\n",
       "      <th>73644</th>\n",
       "      <td>262.17</td>\n",
       "      <td>2024-03-23 19:58:41</td>\n",
       "      <td>PayPal</td>\n",
       "      <td>health &amp; beauty</td>\n",
       "      <td>5</td>\n",
       "      <td>42</td>\n",
       "      <td>mobile</td>\n",
       "      <td>0</td>\n",
       "      <td>125</td>\n",
       "      <td>19</td>\n",
       "      <td>5</td>\n",
       "      <td>3</td>\n",
       "    </tr>\n",
       "    <tr>\n",
       "      <th>73645</th>\n",
       "      <td>26.27</td>\n",
       "      <td>2024-03-25 23:26:57</td>\n",
       "      <td>credit card</td>\n",
       "      <td>electronics</td>\n",
       "      <td>1</td>\n",
       "      <td>28</td>\n",
       "      <td>desktop</td>\n",
       "      <td>0</td>\n",
       "      <td>334</td>\n",
       "      <td>23</td>\n",
       "      <td>0</td>\n",
       "      <td>3</td>\n",
       "    </tr>\n",
       "    <tr>\n",
       "      <th>73646</th>\n",
       "      <td>297.02</td>\n",
       "      <td>2024-03-02 14:34:37</td>\n",
       "      <td>bank transfer</td>\n",
       "      <td>home &amp; garden</td>\n",
       "      <td>1</td>\n",
       "      <td>52</td>\n",
       "      <td>desktop</td>\n",
       "      <td>0</td>\n",
       "      <td>12</td>\n",
       "      <td>14</td>\n",
       "      <td>5</td>\n",
       "      <td>3</td>\n",
       "    </tr>\n",
       "    <tr>\n",
       "      <th>73647</th>\n",
       "      <td>62.10</td>\n",
       "      <td>2024-03-28 19:20:16</td>\n",
       "      <td>debit card</td>\n",
       "      <td>electronics</td>\n",
       "      <td>1</td>\n",
       "      <td>18</td>\n",
       "      <td>desktop</td>\n",
       "      <td>1</td>\n",
       "      <td>336</td>\n",
       "      <td>1</td>\n",
       "      <td>3</td>\n",
       "      <td>3</td>\n",
       "    </tr>\n",
       "  </tbody>\n",
       "</table>\n",
       "<p>71502 rows × 12 columns</p>\n",
       "</div>"
      ],
      "text/plain": [
       "       transaction_amount    transaction_date payment_method product_category  \\\n",
       "1                  292.86 2024-01-04 03:40:16     debit card    home & garden   \n",
       "2                   31.46 2024-01-20 06:15:28     debit card     toys & games   \n",
       "3                   41.78 2024-03-29 15:53:59  bank transfer         clothing   \n",
       "5                  119.58 2024-03-18 03:01:12         PayPal  health & beauty   \n",
       "6                  273.27 2024-01-30 01:43:01  bank transfer    home & garden   \n",
       "...                   ...                 ...            ...              ...   \n",
       "73643              651.09 2024-02-01 00:50:55         PayPal     toys & games   \n",
       "73644              262.17 2024-03-23 19:58:41         PayPal  health & beauty   \n",
       "73645               26.27 2024-03-25 23:26:57    credit card      electronics   \n",
       "73646              297.02 2024-03-02 14:34:37  bank transfer    home & garden   \n",
       "73647               62.10 2024-03-28 19:20:16     debit card      electronics   \n",
       "\n",
       "       quantity  customer_age device_used  is_fraudulent  account_age_days  \\\n",
       "1             3            22      mobile              0               148   \n",
       "2             4            32     desktop              0               146   \n",
       "3             5            27      mobile              0               216   \n",
       "5             5            26     desktop              0               215   \n",
       "6             1            30     desktop              0               264   \n",
       "...         ...           ...         ...            ...               ...   \n",
       "73643         1            34      mobile              0               260   \n",
       "73644         5            42      mobile              0               125   \n",
       "73645         1            28     desktop              0               334   \n",
       "73646         1            52     desktop              0                12   \n",
       "73647         1            18     desktop              1               336   \n",
       "\n",
       "       transaction_hour  transaction_day  transaction_month  \n",
       "1                     3                3                  1  \n",
       "2                     6                5                  1  \n",
       "3                    15                4                  3  \n",
       "5                     3                0                  3  \n",
       "6                     1                1                  1  \n",
       "...                 ...              ...                ...  \n",
       "73643                 0                3                  2  \n",
       "73644                19                5                  3  \n",
       "73645                23                0                  3  \n",
       "73646                14                5                  3  \n",
       "73647                 1                3                  3  \n",
       "\n",
       "[71502 rows x 12 columns]"
      ]
     },
     "execution_count": 39,
     "metadata": {},
     "output_type": "execute_result"
    }
   ],
   "source": [
    "df_modified"
   ]
  },
  {
   "cell_type": "code",
   "execution_count": 40,
   "id": "b2ad50ad-2ce1-4222-bcef-389d6fa2d23f",
   "metadata": {},
   "outputs": [],
   "source": [
    "#Now we don't need the transaction date column\n",
    "df_modified.drop([\"transaction_date\"], axis = 1, inplace = True)"
   ]
  },
  {
   "cell_type": "markdown",
   "id": "dacdca56-e4ad-4bcb-83d3-a0baa0e23cad",
   "metadata": {},
   "source": [
    "## Encoding\n",
    "Columns to encode\n",
    ">**payment_method**\n",
    "\n",
    ">**product_category**\n",
    "\n",
    ">**device_used**"
   ]
  },
  {
   "cell_type": "code",
   "execution_count": 41,
   "id": "b198ab98-d403-425e-a71b-fed460371c62",
   "metadata": {},
   "outputs": [
    {
     "data": {
      "text/html": [
       "<div>\n",
       "<style scoped>\n",
       "    .dataframe tbody tr th:only-of-type {\n",
       "        vertical-align: middle;\n",
       "    }\n",
       "\n",
       "    .dataframe tbody tr th {\n",
       "        vertical-align: top;\n",
       "    }\n",
       "\n",
       "    .dataframe thead th {\n",
       "        text-align: right;\n",
       "    }\n",
       "</style>\n",
       "<table border=\"1\" class=\"dataframe\">\n",
       "  <thead>\n",
       "    <tr style=\"text-align: right;\">\n",
       "      <th></th>\n",
       "      <th>transaction_amount</th>\n",
       "      <th>payment_method</th>\n",
       "      <th>product_category</th>\n",
       "      <th>quantity</th>\n",
       "      <th>customer_age</th>\n",
       "      <th>device_used</th>\n",
       "      <th>is_fraudulent</th>\n",
       "      <th>account_age_days</th>\n",
       "      <th>transaction_hour</th>\n",
       "      <th>transaction_day</th>\n",
       "      <th>transaction_month</th>\n",
       "    </tr>\n",
       "  </thead>\n",
       "  <tbody>\n",
       "    <tr>\n",
       "      <th>61505</th>\n",
       "      <td>445.25</td>\n",
       "      <td>bank transfer</td>\n",
       "      <td>toys &amp; games</td>\n",
       "      <td>2</td>\n",
       "      <td>26</td>\n",
       "      <td>desktop</td>\n",
       "      <td>0</td>\n",
       "      <td>246</td>\n",
       "      <td>19</td>\n",
       "      <td>3</td>\n",
       "      <td>1</td>\n",
       "    </tr>\n",
       "    <tr>\n",
       "      <th>6623</th>\n",
       "      <td>41.17</td>\n",
       "      <td>credit card</td>\n",
       "      <td>clothing</td>\n",
       "      <td>3</td>\n",
       "      <td>19</td>\n",
       "      <td>desktop</td>\n",
       "      <td>0</td>\n",
       "      <td>86</td>\n",
       "      <td>15</td>\n",
       "      <td>0</td>\n",
       "      <td>1</td>\n",
       "    </tr>\n",
       "    <tr>\n",
       "      <th>9421</th>\n",
       "      <td>43.18</td>\n",
       "      <td>credit card</td>\n",
       "      <td>home &amp; garden</td>\n",
       "      <td>2</td>\n",
       "      <td>48</td>\n",
       "      <td>mobile</td>\n",
       "      <td>0</td>\n",
       "      <td>332</td>\n",
       "      <td>11</td>\n",
       "      <td>0</td>\n",
       "      <td>3</td>\n",
       "    </tr>\n",
       "    <tr>\n",
       "      <th>17480</th>\n",
       "      <td>53.50</td>\n",
       "      <td>bank transfer</td>\n",
       "      <td>health &amp; beauty</td>\n",
       "      <td>4</td>\n",
       "      <td>42</td>\n",
       "      <td>tablet</td>\n",
       "      <td>0</td>\n",
       "      <td>64</td>\n",
       "      <td>18</td>\n",
       "      <td>0</td>\n",
       "      <td>2</td>\n",
       "    </tr>\n",
       "    <tr>\n",
       "      <th>37710</th>\n",
       "      <td>24.83</td>\n",
       "      <td>debit card</td>\n",
       "      <td>home &amp; garden</td>\n",
       "      <td>2</td>\n",
       "      <td>51</td>\n",
       "      <td>tablet</td>\n",
       "      <td>0</td>\n",
       "      <td>308</td>\n",
       "      <td>3</td>\n",
       "      <td>1</td>\n",
       "      <td>2</td>\n",
       "    </tr>\n",
       "  </tbody>\n",
       "</table>\n",
       "</div>"
      ],
      "text/plain": [
       "       transaction_amount payment_method product_category  quantity  \\\n",
       "61505              445.25  bank transfer     toys & games         2   \n",
       "6623                41.17    credit card         clothing         3   \n",
       "9421                43.18    credit card    home & garden         2   \n",
       "17480               53.50  bank transfer  health & beauty         4   \n",
       "37710               24.83     debit card    home & garden         2   \n",
       "\n",
       "       customer_age device_used  is_fraudulent  account_age_days  \\\n",
       "61505            26     desktop              0               246   \n",
       "6623             19     desktop              0                86   \n",
       "9421             48      mobile              0               332   \n",
       "17480            42      tablet              0                64   \n",
       "37710            51      tablet              0               308   \n",
       "\n",
       "       transaction_hour  transaction_day  transaction_month  \n",
       "61505                19                3                  1  \n",
       "6623                 15                0                  1  \n",
       "9421                 11                0                  3  \n",
       "17480                18                0                  2  \n",
       "37710                 3                1                  2  "
      ]
     },
     "execution_count": 41,
     "metadata": {},
     "output_type": "execute_result"
    }
   ],
   "source": [
    "df_modified.sample(5)"
   ]
  },
  {
   "cell_type": "code",
   "execution_count": 48,
   "id": "cb9d4f07-b2ea-4430-b773-67ab5ee21e09",
   "metadata": {},
   "outputs": [
    {
     "name": "stdout",
     "output_type": "stream",
     "text": [
      "Mapping: {'PayPal': 0, 'bank transfer': 1, 'credit card': 2, 'debit card': 3}\n"
     ]
    }
   ],
   "source": [
    "from sklearn.preprocessing import LabelEncoder \n",
    "label_encoder = LabelEncoder()\n",
    "\n",
    "df_modified[\"encoded_payment_method\"] = label_encoder.fit_transform(df_modified[\"payment_method\"])\n",
    "\n",
    "mapping = dict(zip(label_encoder.classes_, range(len(label_encoder.classes_))))\n",
    "print(\"Mapping:\", mapping)"
   ]
  },
  {
   "cell_type": "code",
   "execution_count": 50,
   "id": "9fa6dd08-8710-4147-9128-f6fdc57542b0",
   "metadata": {},
   "outputs": [
    {
     "name": "stdout",
     "output_type": "stream",
     "text": [
      "Mapping: {'clothing': 0, 'electronics': 1, 'health & beauty': 2, 'home & garden': 3, 'toys & games': 4}\n"
     ]
    }
   ],
   "source": [
    "#Product_category\n",
    "df_modified[\"encoded_product_category\"] = label_encoder.fit_transform(df_modified[\"product_category\"])\n",
    "\n",
    "mapping = dict(zip(label_encoder.classes_, range(len(label_encoder.classes_))))\n",
    "print(\"Mapping:\", mapping)"
   ]
  },
  {
   "cell_type": "code",
   "execution_count": 51,
   "id": "541af2eb-ce45-4cc4-a9ff-773bbde8ac80",
   "metadata": {},
   "outputs": [
    {
     "name": "stdout",
     "output_type": "stream",
     "text": [
      "Mapping: {'desktop': 0, 'mobile': 1, 'tablet': 2}\n"
     ]
    }
   ],
   "source": [
    "#device_used\n",
    "df_modified[\"encoded_device_used\"] = label_encoder.fit_transform(df_modified[\"device_used\"])\n",
    "\n",
    "mapping = dict(zip(label_encoder.classes_, range(len(label_encoder.classes_))))\n",
    "print(\"Mapping:\", mapping)"
   ]
  },
  {
   "cell_type": "code",
   "execution_count": 53,
   "id": "d9f43a55-63af-4ba3-908f-b7f113a8c935",
   "metadata": {},
   "outputs": [
    {
     "data": {
      "text/html": [
       "<div>\n",
       "<style scoped>\n",
       "    .dataframe tbody tr th:only-of-type {\n",
       "        vertical-align: middle;\n",
       "    }\n",
       "\n",
       "    .dataframe tbody tr th {\n",
       "        vertical-align: top;\n",
       "    }\n",
       "\n",
       "    .dataframe thead th {\n",
       "        text-align: right;\n",
       "    }\n",
       "</style>\n",
       "<table border=\"1\" class=\"dataframe\">\n",
       "  <thead>\n",
       "    <tr style=\"text-align: right;\">\n",
       "      <th></th>\n",
       "      <th>transaction_amount</th>\n",
       "      <th>quantity</th>\n",
       "      <th>customer_age</th>\n",
       "      <th>is_fraudulent</th>\n",
       "      <th>account_age_days</th>\n",
       "      <th>transaction_hour</th>\n",
       "      <th>transaction_day</th>\n",
       "      <th>transaction_month</th>\n",
       "      <th>encoded_payment_method</th>\n",
       "      <th>encoded_product_category</th>\n",
       "      <th>encoded_device_used</th>\n",
       "    </tr>\n",
       "  </thead>\n",
       "  <tbody>\n",
       "    <tr>\n",
       "      <th>1</th>\n",
       "      <td>292.86</td>\n",
       "      <td>3</td>\n",
       "      <td>22</td>\n",
       "      <td>0</td>\n",
       "      <td>148</td>\n",
       "      <td>3</td>\n",
       "      <td>3</td>\n",
       "      <td>1</td>\n",
       "      <td>3</td>\n",
       "      <td>3</td>\n",
       "      <td>1</td>\n",
       "    </tr>\n",
       "    <tr>\n",
       "      <th>2</th>\n",
       "      <td>31.46</td>\n",
       "      <td>4</td>\n",
       "      <td>32</td>\n",
       "      <td>0</td>\n",
       "      <td>146</td>\n",
       "      <td>6</td>\n",
       "      <td>5</td>\n",
       "      <td>1</td>\n",
       "      <td>3</td>\n",
       "      <td>4</td>\n",
       "      <td>0</td>\n",
       "    </tr>\n",
       "    <tr>\n",
       "      <th>3</th>\n",
       "      <td>41.78</td>\n",
       "      <td>5</td>\n",
       "      <td>27</td>\n",
       "      <td>0</td>\n",
       "      <td>216</td>\n",
       "      <td>15</td>\n",
       "      <td>4</td>\n",
       "      <td>3</td>\n",
       "      <td>1</td>\n",
       "      <td>0</td>\n",
       "      <td>1</td>\n",
       "    </tr>\n",
       "    <tr>\n",
       "      <th>5</th>\n",
       "      <td>119.58</td>\n",
       "      <td>5</td>\n",
       "      <td>26</td>\n",
       "      <td>0</td>\n",
       "      <td>215</td>\n",
       "      <td>3</td>\n",
       "      <td>0</td>\n",
       "      <td>3</td>\n",
       "      <td>0</td>\n",
       "      <td>2</td>\n",
       "      <td>0</td>\n",
       "    </tr>\n",
       "    <tr>\n",
       "      <th>6</th>\n",
       "      <td>273.27</td>\n",
       "      <td>1</td>\n",
       "      <td>30</td>\n",
       "      <td>0</td>\n",
       "      <td>264</td>\n",
       "      <td>1</td>\n",
       "      <td>1</td>\n",
       "      <td>1</td>\n",
       "      <td>1</td>\n",
       "      <td>3</td>\n",
       "      <td>0</td>\n",
       "    </tr>\n",
       "    <tr>\n",
       "      <th>...</th>\n",
       "      <td>...</td>\n",
       "      <td>...</td>\n",
       "      <td>...</td>\n",
       "      <td>...</td>\n",
       "      <td>...</td>\n",
       "      <td>...</td>\n",
       "      <td>...</td>\n",
       "      <td>...</td>\n",
       "      <td>...</td>\n",
       "      <td>...</td>\n",
       "      <td>...</td>\n",
       "    </tr>\n",
       "    <tr>\n",
       "      <th>73643</th>\n",
       "      <td>651.09</td>\n",
       "      <td>1</td>\n",
       "      <td>34</td>\n",
       "      <td>0</td>\n",
       "      <td>260</td>\n",
       "      <td>0</td>\n",
       "      <td>3</td>\n",
       "      <td>2</td>\n",
       "      <td>0</td>\n",
       "      <td>4</td>\n",
       "      <td>1</td>\n",
       "    </tr>\n",
       "    <tr>\n",
       "      <th>73644</th>\n",
       "      <td>262.17</td>\n",
       "      <td>5</td>\n",
       "      <td>42</td>\n",
       "      <td>0</td>\n",
       "      <td>125</td>\n",
       "      <td>19</td>\n",
       "      <td>5</td>\n",
       "      <td>3</td>\n",
       "      <td>0</td>\n",
       "      <td>2</td>\n",
       "      <td>1</td>\n",
       "    </tr>\n",
       "    <tr>\n",
       "      <th>73645</th>\n",
       "      <td>26.27</td>\n",
       "      <td>1</td>\n",
       "      <td>28</td>\n",
       "      <td>0</td>\n",
       "      <td>334</td>\n",
       "      <td>23</td>\n",
       "      <td>0</td>\n",
       "      <td>3</td>\n",
       "      <td>2</td>\n",
       "      <td>1</td>\n",
       "      <td>0</td>\n",
       "    </tr>\n",
       "    <tr>\n",
       "      <th>73646</th>\n",
       "      <td>297.02</td>\n",
       "      <td>1</td>\n",
       "      <td>52</td>\n",
       "      <td>0</td>\n",
       "      <td>12</td>\n",
       "      <td>14</td>\n",
       "      <td>5</td>\n",
       "      <td>3</td>\n",
       "      <td>1</td>\n",
       "      <td>3</td>\n",
       "      <td>0</td>\n",
       "    </tr>\n",
       "    <tr>\n",
       "      <th>73647</th>\n",
       "      <td>62.10</td>\n",
       "      <td>1</td>\n",
       "      <td>18</td>\n",
       "      <td>1</td>\n",
       "      <td>336</td>\n",
       "      <td>1</td>\n",
       "      <td>3</td>\n",
       "      <td>3</td>\n",
       "      <td>3</td>\n",
       "      <td>1</td>\n",
       "      <td>0</td>\n",
       "    </tr>\n",
       "  </tbody>\n",
       "</table>\n",
       "<p>71502 rows × 11 columns</p>\n",
       "</div>"
      ],
      "text/plain": [
       "       transaction_amount  quantity  customer_age  is_fraudulent  \\\n",
       "1                  292.86         3            22              0   \n",
       "2                   31.46         4            32              0   \n",
       "3                   41.78         5            27              0   \n",
       "5                  119.58         5            26              0   \n",
       "6                  273.27         1            30              0   \n",
       "...                   ...       ...           ...            ...   \n",
       "73643              651.09         1            34              0   \n",
       "73644              262.17         5            42              0   \n",
       "73645               26.27         1            28              0   \n",
       "73646              297.02         1            52              0   \n",
       "73647               62.10         1            18              1   \n",
       "\n",
       "       account_age_days  transaction_hour  transaction_day  transaction_month  \\\n",
       "1                   148                 3                3                  1   \n",
       "2                   146                 6                5                  1   \n",
       "3                   216                15                4                  3   \n",
       "5                   215                 3                0                  3   \n",
       "6                   264                 1                1                  1   \n",
       "...                 ...               ...              ...                ...   \n",
       "73643               260                 0                3                  2   \n",
       "73644               125                19                5                  3   \n",
       "73645               334                23                0                  3   \n",
       "73646                12                14                5                  3   \n",
       "73647               336                 1                3                  3   \n",
       "\n",
       "       encoded_payment_method  encoded_product_category  encoded_device_used  \n",
       "1                           3                         3                    1  \n",
       "2                           3                         4                    0  \n",
       "3                           1                         0                    1  \n",
       "5                           0                         2                    0  \n",
       "6                           1                         3                    0  \n",
       "...                       ...                       ...                  ...  \n",
       "73643                       0                         4                    1  \n",
       "73644                       0                         2                    1  \n",
       "73645                       2                         1                    0  \n",
       "73646                       1                         3                    0  \n",
       "73647                       3                         1                    0  \n",
       "\n",
       "[71502 rows x 11 columns]"
      ]
     },
     "execution_count": 53,
     "metadata": {},
     "output_type": "execute_result"
    }
   ],
   "source": [
    "df_modified.drop([\"payment_method\", \"product_category\", \"device_used\"], axis = 1, inplace = True)\n",
    "df_modified"
   ]
  },
  {
   "cell_type": "code",
   "execution_count": 54,
   "id": "48c8ec02-bdcc-475e-94ad-32abdadaec76",
   "metadata": {},
   "outputs": [],
   "source": [
    "df_modified.to_csv(\"processed_samples.csv\")"
   ]
  },
  {
   "cell_type": "code",
   "execution_count": null,
   "id": "921b56f2-5365-4dfb-928c-56fc39601794",
   "metadata": {},
   "outputs": [],
   "source": []
  }
 ],
 "metadata": {
  "kernelspec": {
   "display_name": "data3_11",
   "language": "python",
   "name": "data3_11"
  },
  "language_info": {
   "codemirror_mode": {
    "name": "ipython",
    "version": 3
   },
   "file_extension": ".py",
   "mimetype": "text/x-python",
   "name": "python",
   "nbconvert_exporter": "python",
   "pygments_lexer": "ipython3",
   "version": "3.11.7"
  }
 },
 "nbformat": 4,
 "nbformat_minor": 5
}
